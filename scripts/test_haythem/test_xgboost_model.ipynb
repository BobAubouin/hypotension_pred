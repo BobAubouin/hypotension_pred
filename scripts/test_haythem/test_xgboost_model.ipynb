{
 "cells": [
  {
   "cell_type": "code",
   "execution_count": 35,
   "metadata": {},
   "outputs": [],
   "source": [
    "from itertools import chain, repeat\n",
    "from pathlib import Path\n",
    "import pickle\n",
    "\n",
    "import matplotlib.pyplot as plt\n",
    "import numpy as np\n",
    "import optuna\n",
    "import pandas as pd\n",
    "import shap\n",
    "import xgboost as xgb\n",
    "\n",
    "from hp_pred.experiments import bootstrap_test, objective_xgboost, print_one_stat, print_statistics\n",
    "\n",
    "\n",
    "optuna.logging.set_verbosity(optuna.logging.WARNING)"
   ]
  },
  {
   "cell_type": "code",
   "execution_count": 36,
   "metadata": {},
   "outputs": [],
   "source": [
    "SIGNAL_FEATURE = ['mbp', 'sbp', 'dbp', 'bis']\n",
    "STATIC_FEATURE = [\"age\", \"bmi\", \"asa\"]\n",
    "HALF_TIME_FILTERING = [10, 60, 5*60,]"
   ]
  },
  {
   "cell_type": "markdown",
   "metadata": {},
   "source": [
    "## Load and format data"
   ]
  },
  {
   "cell_type": "code",
   "execution_count": 37,
   "metadata": {},
   "outputs": [],
   "source": [
    "# import the data frame and add the meta data to the segments\n",
    "model_filename = 'test_bob.json'\n",
    "model_filename_2 = 'test_haythem.json'\n",
    "dataset = 'signal_dataset_haythem_feature_bob'\n",
    "dataset_2 = 'signal_dataset_haythem'\n",
    "data = pd.read_parquet(Path(f'data/datasets/{dataset}/cases/'))\n",
    "static = pd.read_parquet(f'data/datasets/{dataset}/meta.parquet')\n",
    "data = data.merge(static, on='caseid')\n",
    "\n",
    "data_2 = pd.read_parquet(Path(f'data/datasets/{dataset_2}/features/'))\n",
    "data_2 = data_2.merge(static, on='caseid')\n",
    "\n",
    "train = data[data['split'] == \"train\"]\n",
    "test = data[data['split'] == \"test\"]\n",
    "\n",
    "train_2 = data_2[data_2['split'] == \"train\"]\n",
    "test_2 = data_2[data_2['split'] == \"test\"]"
   ]
  },
  {
   "cell_type": "markdown",
   "metadata": {},
   "source": [
    "## Train or load existing model\n"
   ]
  },
  {
   "cell_type": "code",
   "execution_count": 38,
   "metadata": {},
   "outputs": [
    {
     "name": "stdout",
     "output_type": "stream",
     "text": [
      "223,289 train samples, 95,524 test samples, 4.20% positive rate.\n"
     ]
    },
    {
     "name": "stderr",
     "output_type": "stream",
     "text": [
      "Best trial: 11. Best value: 0.166996: 100%|██████████| 25/25 [04:05<00:00,  9.82s/it]\n"
     ]
    }
   ],
   "source": [
    "# control reproducibility\n",
    "rng_seed = 42\n",
    "\n",
    "FEATURE_NAME = (\n",
    "    [\n",
    "        f\"{signal}_constant_{half_time}\"\n",
    "        for signal in SIGNAL_FEATURE\n",
    "        for half_time in HALF_TIME_FILTERING\n",
    "    ]\n",
    "    + [\n",
    "        f\"{signal}_slope_{half_time}\"\n",
    "        for signal in SIGNAL_FEATURE\n",
    "        for half_time in HALF_TIME_FILTERING\n",
    "    ]\n",
    "    + [\n",
    "        f\"{signal}_std_{half_time}\"\n",
    "        for signal in SIGNAL_FEATURE\n",
    "        for half_time in HALF_TIME_FILTERING\n",
    "    ]\n",
    "    + STATIC_FEATURE\n",
    ")\n",
    "#remove feature with std_60 in the name\n",
    "# FEATURE_NAME = [x for x in FEATURE_NAME if \"std_60\" not in x]\n",
    "\n",
    "# create a regressor\n",
    "train = train.dropna(subset=FEATURE_NAME)\n",
    "test = test.dropna(subset=FEATURE_NAME)\n",
    "print(\n",
    "    f\"{len(train):,d} train samples, \"\n",
    "    f\"{len(test):,d} test samples, \"\n",
    "    f\"{test['label'].mean():.2%} positive rate.\"\n",
    ")\n",
    "\n",
    "# Set model file, create models folder if does not exist.\n",
    "model_folder = Path(\"data/models\")\n",
    "if not model_folder.exists():\n",
    "    model_folder.mkdir()\n",
    "model_file = model_folder / model_filename\n",
    "\n",
    "\n",
    "if model_file.exists():\n",
    "    model = xgb.XGBClassifier()\n",
    "    model.load_model(model_file)\n",
    "else:\n",
    "    number_fold = len(train.cv_split.unique())\n",
    "    data_train_cv = [train[train.cv_split != f'cv_{i}'] for i in range(number_fold)]\n",
    "    data_test_cv = [train[train.cv_split == f'cv_{i}'] for i in range(number_fold)]\n",
    "    # creat an optuna study\n",
    "    study = optuna.create_study(direction=\"maximize\")\n",
    "    study.optimize(\n",
    "        lambda trial: objective_xgboost(trial, data_train_cv, data_test_cv, FEATURE_NAME),\n",
    "        n_trials=25,\n",
    "        show_progress_bar=True,\n",
    "    )\n",
    "    # get the best hyperparameters\n",
    "    best_params = study.best_params\n",
    "\n",
    "    model = xgb.XGBClassifier(**best_params)\n",
    "    # refit the model with best parameters\n",
    "    model.fit(train[FEATURE_NAME], train.label, verbose=1)\n",
    "\n",
    "    # save the model\n",
    "    model.save_model(model_file)"
   ]
  },
  {
   "cell_type": "code",
   "execution_count": 39,
   "metadata": {},
   "outputs": [
    {
     "name": "stdout",
     "output_type": "stream",
     "text": [
      "223,289 train samples, 95,524 test samples, 4.20% positive rate.\n"
     ]
    },
    {
     "name": "stderr",
     "output_type": "stream",
     "text": [
      "Best trial: 15. Best value: 0.149031: 100%|██████████| 25/25 [04:55<00:00, 11.84s/it]\n"
     ]
    }
   ],
   "source": [
    "# control reproducibility\n",
    "rng_seed = 42\n",
    "\n",
    "FEATURE_NAME_2 = [col for col in data_2.columns if col not in (list(static.columns) + [\"time\", \"intervention\", \"label\", \"label_id\", \"time_before_IOH\"])]\n",
    "# FEATURE_NAME = [x for x in FEATURE_NAME if \"std_60\" not in x]\n",
    "\n",
    "# create a regressor\n",
    "train = train_2.dropna(subset=FEATURE_NAME_2)\n",
    "test_2 = test_2.dropna(subset=FEATURE_NAME_2)\n",
    "print(\n",
    "    f\"{len(train_2):,d} train samples, \"\n",
    "    f\"{len(test_2):,d} test samples, \"\n",
    "    f\"{test_2['label'].mean():.2%} positive rate.\"\n",
    ")\n",
    "\n",
    "# Set model file, create models folder if does not exist.\n",
    "model_folder = Path(\"data/models\")\n",
    "if not model_folder.exists():\n",
    "    model_folder.mkdir()\n",
    "model_file = model_folder / model_filename_2\n",
    "\n",
    "\n",
    "if model_file.exists():\n",
    "    model_2 = xgb.XGBClassifier()\n",
    "    model_2.load_model(model_file)\n",
    "else:\n",
    "    number_fold = len(train.cv_split.unique())\n",
    "    data_train_cv = [train_2[train_2.cv_split != f'cv_{i}'] for i in range(number_fold)]\n",
    "    data_test_cv = [train_2[train_2.cv_split == f'cv_{i}'] for i in range(number_fold)]\n",
    "    # creat an optuna study\n",
    "    study = optuna.create_study(direction=\"maximize\")\n",
    "    study.optimize(\n",
    "        lambda trial: objective_xgboost(trial, data_train_cv, data_test_cv, FEATURE_NAME_2),\n",
    "        n_trials=25,\n",
    "        show_progress_bar=True,\n",
    "    )\n",
    "    # get the best hyperparameters\n",
    "    best_params = study.best_params\n",
    "\n",
    "    model_2 = xgb.XGBClassifier(**best_params)\n",
    "    # refit the model with best parameters\n",
    "    model_2.fit(train_2[FEATURE_NAME_2], train_2.label, verbose=1)\n",
    "\n",
    "    # save the model\n",
    "    model_2.save_model(model_file)"
   ]
  },
  {
   "cell_type": "markdown",
   "metadata": {},
   "source": [
    "# Baseline evaluation"
   ]
  },
  {
   "cell_type": "code",
   "execution_count": 40,
   "metadata": {},
   "outputs": [
    {
     "name": "stdout",
     "output_type": "stream",
     "text": [
      "test set contains 95524 sample with a prevalence of 4.20% \n"
     ]
    }
   ],
   "source": [
    "# for each subgoup of data, create a regressor and evaluate it\n",
    "n_bootstraps = 200\n",
    "rng_seed = 42  # control reproducibility\n",
    "rng = np.random.RandomState(rng_seed)\n",
    "\n",
    "FEATURE_NAME_BASELINE = \"last_map_value\"\n",
    "\n",
    "# create a regressor\n",
    "print(f\"test set contains {len(test)} sample with a prevalence of {test['label'].mean()*100:.2f}% \")\n",
    "test = test.dropna(subset=[FEATURE_NAME_BASELINE])\n",
    "\n",
    "result_folder = Path(\"data/results\")\n",
    "if not result_folder.exists():\n",
    "    result_folder.exists()\n",
    "roc_results = result_folder / \"haytem_baseline.pkl\"\n",
    "\n",
    "if roc_results.exists() and True:\n",
    "    dict_results_baseline = pickle.load(roc_results.open(\"rb\"))\n",
    "else:\n",
    "    x_test = test[FEATURE_NAME_BASELINE].values\n",
    "    y_test = test['label'].values\n",
    "    y_pred = 1 - x_test/120\n",
    "    y_label_id = test[\"label_id\"].values\n",
    "\n",
    "    print(f\"Number of point in the test set: {len(y_test)}\")\n",
    "    print(f\"Prevalence in the test set: {y_test.mean()*100:.2f}%\")\n",
    "    dict_results_baseline, tprs_interpolated, precision_interpolated = bootstrap_test(y_test, y_pred, y_label_id, n_bootstraps=200, rng_seed=rng_seed, strategy=\"max_precision\", target=0.24)\n",
    "\n",
    "\n",
    "    with roc_results.open(\"wb\") as f:\n",
    "        pickle.dump(dict_results_baseline, f)\n",
    "\n",
    "    print_statistics(dict_results_baseline)"
   ]
  },
  {
   "cell_type": "markdown",
   "metadata": {},
   "source": [
    "## Evaluation"
   ]
  },
  {
   "cell_type": "code",
   "execution_count": 41,
   "metadata": {},
   "outputs": [
    {
     "name": "stderr",
     "output_type": "stream",
     "text": [
      "100%|██████████| 200/200 [00:35<00:00,  5.68it/s]\n"
     ]
    }
   ],
   "source": [
    "y_pred = model.predict_proba(test[FEATURE_NAME])[:, 1]\n",
    "y_test = test[\"label\"].to_numpy()\n",
    "y_label_ids = test[\"label_id\"].to_numpy()\n",
    "\n",
    "dict_results, tprs_interpolated, precision_interpolated = bootstrap_test(y_test, y_pred, y_label_ids, n_bootstraps=200, rng_seed=rng_seed, strategy=\"targeted_recall\", target=0.237)\n",
    "\n",
    "result_folder = Path(\"data/results\")\n",
    "if not result_folder.exists():\n",
    "    result_folder.exists()\n",
    "roc_results = result_folder / \"xgboost_filtered.pkl\"\n",
    "with roc_results.open(\"wb\") as f:\n",
    "    pickle.dump(dict_results, f)"
   ]
  },
  {
   "cell_type": "code",
   "execution_count": 42,
   "metadata": {},
   "outputs": [
    {
     "name": "stderr",
     "output_type": "stream",
     "text": [
      "100%|██████████| 200/200 [00:37<00:00,  5.35it/s]\n"
     ]
    }
   ],
   "source": [
    "# evaluate second model\n",
    "y_pred = model_2.predict_proba(test_2[FEATURE_NAME_2])[:, 1]\n",
    "y_test = test_2[\"label\"].to_numpy()\n",
    "y_label_ids = test_2[\"label_id\"].to_numpy()\n",
    "\n",
    "dict_results_2, tprs_interpolated_2, precision_interpolated_2 = bootstrap_test(y_test, y_pred, y_label_ids, n_bootstraps=200, rng_seed=rng_seed, strategy=\"targeted_recall\", target=0.237)\n",
    "\n",
    "result_folder = Path(\"data/results\")\n",
    "if not result_folder.exists():\n",
    "    result_folder.exists()\n",
    "roc_results = result_folder / \"xgboost_filtered_2.pkl\"\n",
    "with roc_results.open(\"wb\") as f:\n",
    "    pickle.dump(dict_results_2, f)\n",
    "\n"
   ]
  },
  {
   "cell_type": "markdown",
   "metadata": {},
   "source": [
    "### Model's prediction variance"
   ]
  },
  {
   "cell_type": "markdown",
   "metadata": {},
   "source": [
    "#### Variance estimation by bootstrapping"
   ]
  },
  {
   "cell_type": "code",
   "execution_count": 43,
   "metadata": {},
   "outputs": [
    {
     "name": "stdout",
     "output_type": "stream",
     "text": [
      "Baseline\n",
      "AUC: 0.73 (0.00)\n",
      "AP: 0.12 [0.12, 0.12]\n",
      "AUPRC: 0.15 [0.15, 0.15]\n",
      "Threshold: 0.44 [0.44, 0.44]\n",
      "Recall: 30.9% [28.0%, 33.4%]\n",
      "Precision: 20.5% (0.9%)\n",
      "Specificity: 96.0% [95.6%, 96.4%]\n",
      "NPV: 99.8% [99.8%, 99.8%]\n",
      "F1-score: 24.5% [23.4%, 25.4%]\n",
      "\n",
      "\n",
      "XGBoost Bob\n",
      "AUC: 0.81 (0.00)\n",
      "AP: 0.17 (0.00)\n",
      "AUPRC: 0.23 (0.01)\n",
      "Threshold: 0.27 [0.27, 0.27]\n",
      "Recall: 23.7% [23.6%, 23.8%]\n",
      "Precision: 30.0% [29.0%, 31.3%]\n",
      "Specificity: 96.9% [96.8%, 97.1%]\n",
      "NPV: 99.7% [99.7%, 99.7%]\n",
      "F1-score: 26.5% (0.6%)\n",
      "XGBoost Haythem\n"
     ]
    }
   ],
   "source": [
    "print('Baseline')\n",
    "print_statistics(dict_results_baseline)\n",
    "\n",
    "print('\\n')\n",
    "print('XGBoost Bob')\n",
    "\n",
    "print_statistics(dict_results)\n",
    "\n",
    "print('XGBoost Haythem')\n",
    "\n",
    "# print_statistics(dict_results_2)\n"
   ]
  },
  {
   "cell_type": "markdown",
   "metadata": {},
   "source": [
    "Print main statistics"
   ]
  },
  {
   "cell_type": "markdown",
   "metadata": {},
   "source": [
    "### PRC Plot"
   ]
  },
  {
   "cell_type": "code",
   "execution_count": 44,
   "metadata": {},
   "outputs": [
    {
     "data": {
      "image/png": "[encoded data removed]",
      "text/plain": [
       "<Figure size 640x480 with 1 Axes>"
      ]
     },
     "metadata": {},
     "output_type": "display_data"
    }
   ],
   "source": [
    "recall = np.linspace(0, 1, 1000)\n",
    "precision_mean, precision_std = dict_results['precision'].mean(0), dict_results['precision'].std(0)\n",
    "plt.fill_between(\n",
    "    recall, precision_mean - 2 * precision_std, precision_mean + 2 * precision_std, alpha=0.2\n",
    ")\n",
    "plt.plot(recall, precision_mean, label=f\"linear features(AUPRC = {print_one_stat(pd.Series(dict_results['auprcs']),False)})\")\n",
    "\n",
    "precision_mean_2, precision_std_2 = dict_results_2['precision'].mean(0), dict_results_2['precision'].std(0)\n",
    "plt.fill_between(\n",
    "    recall, precision_mean_2 - 2 * precision_std_2, precision_mean_2 + 2 * precision_std_2, alpha=0.2\n",
    ")\n",
    "plt.plot(recall, precision_mean_2, label=f\"Haythem features (AUPRC = {print_one_stat(pd.Series(dict_results_2['auprcs']),False)})\")\n",
    "\n",
    "# add baseline to the plot\n",
    "\n",
    "plt.fill_between(\n",
    "    dict_results_baseline['fprs'],\n",
    "    dict_results_baseline['precision'].mean(0) - 2 * dict_results_baseline['precision'].std(0),\n",
    "    dict_results_baseline['precision'].mean(0) + 2 * dict_results_baseline['precision'].std(0),\n",
    "    alpha=0.2,\n",
    ")\n",
    "plt.plot(\n",
    "    dict_results_baseline['fprs'],\n",
    "    dict_results_baseline['precision'].mean(0),\n",
    "    label=f\"baseline (AUPRC = {print_one_stat(pd.Series(dict_results_baseline['auprcs']),False)})\",\n",
    ")\n",
    "\n",
    "\n",
    "\n",
    "\n",
    "plt.plot([0, 1], [dict_results['precision'].mean(0)[-1]]*2, \"k--\")\n",
    "plt.xlabel(\"Recall\")\n",
    "plt.ylabel(\"Precision\")\n",
    "plt.ylim(-0.05, 1.05)\n",
    "plt.xlim(-0.05, 1.05)\n",
    "plt.title(\"PRC curve\")\n",
    "plt.legend()\n",
    "plt.grid()\n",
    "plt.show()"
   ]
  }
 ],
 "metadata": {
  "kernelspec": {
   "display_name": ".venv",
   "language": "python",
   "name": "python3"
  },
  "language_info": {
   "codemirror_mode": {
    "name": "ipython",
    "version": 3
   },
   "file_extension": ".py",
   "mimetype": "text/x-python",
   "name": "python",
   "nbconvert_exporter": "python",
   "pygments_lexer": "ipython3",
   "version": "3.12.3"
  }
 },
 "nbformat": 4,
 "nbformat_minor": 2
}
