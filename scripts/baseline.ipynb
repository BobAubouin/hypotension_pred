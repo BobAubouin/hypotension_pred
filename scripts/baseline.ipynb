{
 "cells": [
  {
   "cell_type": "markdown",
   "metadata": {},
   "source": [
    "# Baseline implementation\n",
    "This notebook implement the prediction of hypotension using the last mean artrial pressure (MAP) value. It is use as a baseline to compare with other models."
   ]
  },
  {
   "cell_type": "code",
   "execution_count": 15,
   "metadata": {},
   "outputs": [],
   "source": [
    "import pandas as pd\n",
    "import matplotlib.pyplot as plt\n",
    "import os\n",
    "\n",
    "from scripts.dataLoader import dataLoader"
   ]
  },
  {
   "cell_type": "code",
   "execution_count": 16,
   "metadata": {},
   "outputs": [],
   "source": [
    "HALF_TIME_FILTERING = 10 # secondes"
   ]
  },
  {
   "cell_type": "code",
   "execution_count": 17,
   "metadata": {},
   "outputs": [],
   "source": [
    "# test if raw file exists\n",
    "if not os.path.exists('data/data_async.csv'):\n",
    "    print('data_async.csv does not exist, please run dataset_download.py first')\n",
    "    exit()\n",
    "    \n",
    "if not os.path.exists('data/data_baseline.csv'):\n",
    "    dataframe = dataLoader(\n",
    "        half_times= [10],\n",
    "    )\n",
    "    dataframe.to_csv('data/data_baseline.csv', index=False)\n",
    "else:\n",
    "    dataframe = pd.read_csv('data/data_baseline.csv')\n"
   ]
  },
  {
   "cell_type": "code",
   "execution_count": 21,
   "metadata": {},
   "outputs": [
    {
     "name": "stdout",
     "output_type": "stream",
     "text": [
      "0\n",
      "---\n",
      "              precision    recall  f1-score   support\n",
      "\n",
      "         0.0       0.96      1.00      0.98      3639\n",
      "         1.0       0.00      0.00      0.00       133\n",
      "\n",
      "    accuracy                           0.96      3772\n",
      "   macro avg       0.48      0.50      0.49      3772\n",
      "weighted avg       0.93      0.96      0.95      3772\n",
      "\n",
      "[[3639    0]\n",
      " [ 133    0]]\n",
      "1\n",
      "---\n",
      "              precision    recall  f1-score   support\n",
      "\n",
      "         0.0       0.96      1.00      0.98      4003\n",
      "         1.0       0.00      0.00      0.00       160\n",
      "\n",
      "    accuracy                           0.96      4163\n",
      "   macro avg       0.48      0.50      0.49      4163\n",
      "weighted avg       0.92      0.96      0.94      4163\n",
      "\n",
      "[[4003    0]\n",
      " [ 160    0]]\n",
      "2\n",
      "---\n",
      "              precision    recall  f1-score   support\n",
      "\n",
      "         0.0       0.95      1.00      0.97      2763\n",
      "         1.0       0.00      0.00      0.00       152\n",
      "\n",
      "    accuracy                           0.95      2915\n",
      "   macro avg       0.47      0.50      0.49      2915\n",
      "weighted avg       0.90      0.95      0.92      2915\n",
      "\n",
      "[[2763    0]\n",
      " [ 152    0]]\n",
      "3\n",
      "---\n",
      "              precision    recall  f1-score   support\n",
      "\n",
      "         0.0       0.98      1.00      0.99      4088\n",
      "         1.0       0.00      0.00      0.00        70\n",
      "\n",
      "    accuracy                           0.98      4158\n",
      "   macro avg       0.49      0.50      0.50      4158\n",
      "weighted avg       0.97      0.98      0.97      4158\n",
      "\n",
      "[[4088    0]\n",
      " [  70    0]]\n",
      "4\n",
      "---\n",
      "              precision    recall  f1-score   support\n",
      "\n",
      "         0.0       0.97      1.00      0.98      4039\n",
      "         1.0       0.00      0.00      0.00       145\n",
      "\n",
      "    accuracy                           0.97      4184\n",
      "   macro avg       0.48      0.50      0.49      4184\n",
      "weighted avg       0.93      0.97      0.95      4184\n",
      "\n",
      "[[4039    0]\n",
      " [ 145    0]]\n",
      "AUC: 0.50 +/- 0.00\n"
     ]
    },
    {
     "name": "stderr",
     "output_type": "stream",
     "text": [
      "/home/aubouinb/ownCloud/Code/hypotension_pred/.venv/lib/python3.11/site-packages/sklearn/metrics/_classification.py:1509: UndefinedMetricWarning: Precision is ill-defined and being set to 0.0 in labels with no predicted samples. Use `zero_division` parameter to control this behavior.\n",
      "  _warn_prf(average, modifier, f\"{metric.capitalize()} is\", len(result))\n",
      "/home/aubouinb/ownCloud/Code/hypotension_pred/.venv/lib/python3.11/site-packages/sklearn/metrics/_classification.py:1509: UndefinedMetricWarning: Precision is ill-defined and being set to 0.0 in labels with no predicted samples. Use `zero_division` parameter to control this behavior.\n",
      "  _warn_prf(average, modifier, f\"{metric.capitalize()} is\", len(result))\n",
      "/home/aubouinb/ownCloud/Code/hypotension_pred/.venv/lib/python3.11/site-packages/sklearn/metrics/_classification.py:1509: UndefinedMetricWarning: Precision is ill-defined and being set to 0.0 in labels with no predicted samples. Use `zero_division` parameter to control this behavior.\n",
      "  _warn_prf(average, modifier, f\"{metric.capitalize()} is\", len(result))\n",
      "/home/aubouinb/ownCloud/Code/hypotension_pred/.venv/lib/python3.11/site-packages/sklearn/metrics/_classification.py:1509: UndefinedMetricWarning: Precision is ill-defined and being set to 0.0 in labels with no predicted samples. Use `zero_division` parameter to control this behavior.\n",
      "  _warn_prf(average, modifier, f\"{metric.capitalize()} is\", len(result))\n",
      "/home/aubouinb/ownCloud/Code/hypotension_pred/.venv/lib/python3.11/site-packages/sklearn/metrics/_classification.py:1509: UndefinedMetricWarning: Precision is ill-defined and being set to 0.0 in labels with no predicted samples. Use `zero_division` parameter to control this behavior.\n",
      "  _warn_prf(average, modifier, f\"{metric.capitalize()} is\", len(result))\n",
      "/home/aubouinb/ownCloud/Code/hypotension_pred/.venv/lib/python3.11/site-packages/sklearn/metrics/_classification.py:1509: UndefinedMetricWarning: Precision is ill-defined and being set to 0.0 in labels with no predicted samples. Use `zero_division` parameter to control this behavior.\n",
      "  _warn_prf(average, modifier, f\"{metric.capitalize()} is\", len(result))\n",
      "/home/aubouinb/ownCloud/Code/hypotension_pred/.venv/lib/python3.11/site-packages/sklearn/metrics/_classification.py:1509: UndefinedMetricWarning: Precision is ill-defined and being set to 0.0 in labels with no predicted samples. Use `zero_division` parameter to control this behavior.\n",
      "  _warn_prf(average, modifier, f\"{metric.capitalize()} is\", len(result))\n",
      "/home/aubouinb/ownCloud/Code/hypotension_pred/.venv/lib/python3.11/site-packages/sklearn/metrics/_classification.py:1509: UndefinedMetricWarning: Precision is ill-defined and being set to 0.0 in labels with no predicted samples. Use `zero_division` parameter to control this behavior.\n",
      "  _warn_prf(average, modifier, f\"{metric.capitalize()} is\", len(result))\n",
      "/home/aubouinb/ownCloud/Code/hypotension_pred/.venv/lib/python3.11/site-packages/sklearn/metrics/_classification.py:1509: UndefinedMetricWarning: Precision is ill-defined and being set to 0.0 in labels with no predicted samples. Use `zero_division` parameter to control this behavior.\n",
      "  _warn_prf(average, modifier, f\"{metric.capitalize()} is\", len(result))\n",
      "/home/aubouinb/ownCloud/Code/hypotension_pred/.venv/lib/python3.11/site-packages/sklearn/metrics/_classification.py:1509: UndefinedMetricWarning: Precision is ill-defined and being set to 0.0 in labels with no predicted samples. Use `zero_division` parameter to control this behavior.\n",
      "  _warn_prf(average, modifier, f\"{metric.capitalize()} is\", len(result))\n",
      "/home/aubouinb/ownCloud/Code/hypotension_pred/.venv/lib/python3.11/site-packages/sklearn/metrics/_classification.py:1509: UndefinedMetricWarning: Precision is ill-defined and being set to 0.0 in labels with no predicted samples. Use `zero_division` parameter to control this behavior.\n",
      "  _warn_prf(average, modifier, f\"{metric.capitalize()} is\", len(result))\n",
      "/home/aubouinb/ownCloud/Code/hypotension_pred/.venv/lib/python3.11/site-packages/sklearn/metrics/_classification.py:1509: UndefinedMetricWarning: Precision is ill-defined and being set to 0.0 in labels with no predicted samples. Use `zero_division` parameter to control this behavior.\n",
      "  _warn_prf(average, modifier, f\"{metric.capitalize()} is\", len(result))\n",
      "/home/aubouinb/ownCloud/Code/hypotension_pred/.venv/lib/python3.11/site-packages/sklearn/metrics/_classification.py:1509: UndefinedMetricWarning: Precision is ill-defined and being set to 0.0 in labels with no predicted samples. Use `zero_division` parameter to control this behavior.\n",
      "  _warn_prf(average, modifier, f\"{metric.capitalize()} is\", len(result))\n",
      "/home/aubouinb/ownCloud/Code/hypotension_pred/.venv/lib/python3.11/site-packages/sklearn/metrics/_classification.py:1509: UndefinedMetricWarning: Precision is ill-defined and being set to 0.0 in labels with no predicted samples. Use `zero_division` parameter to control this behavior.\n",
      "  _warn_prf(average, modifier, f\"{metric.capitalize()} is\", len(result))\n",
      "/home/aubouinb/ownCloud/Code/hypotension_pred/.venv/lib/python3.11/site-packages/sklearn/metrics/_classification.py:1509: UndefinedMetricWarning: Precision is ill-defined and being set to 0.0 in labels with no predicted samples. Use `zero_division` parameter to control this behavior.\n",
      "  _warn_prf(average, modifier, f\"{metric.capitalize()} is\", len(result))\n"
     ]
    },
    {
     "data": {
      "image/png": "[encoded data removed]",
      "text/plain": [
       "<Figure size 640x480 with 1 Axes>"
      ]
     },
     "metadata": {},
     "output_type": "display_data"
    }
   ],
   "source": [
    "# for each subgoup of data, create a regressor and evaluate it\n",
    "from sklearn.linear_model import RidgeClassifier\n",
    "from sklearn.metrics import auc, classification_report, confusion_matrix, accuracy_score, roc_curve, roc_auc_score, f1_score, precision_recall_curve\n",
    "\n",
    "tpr, fpr, auc  = [], [], []\n",
    "\n",
    "for cv, test in dataframe.groupby('cv_group'):\n",
    "    # create a regressor\n",
    "    print(cv)\n",
    "    print('---')\n",
    "\n",
    "    train = dataframe[dataframe['cv_group'] != cv]\n",
    "    train = train.dropna(subset=[f'mbp_ema_{HALF_TIME_FILTERING}'])\n",
    "    test = test.dropna(subset=[f'mbp_ema_{HALF_TIME_FILTERING}'])\n",
    "    x_train = train[f'mbp_ema_{HALF_TIME_FILTERING}'].values.reshape(-1, 1)\n",
    "    y_train = train['label'].values\n",
    "    # evaluate it\n",
    "    model = RidgeClassifier()\n",
    "    model.fit(x_train, y_train)\n",
    "\n",
    "    x_test = test[f'mbp_ema_{HALF_TIME_FILTERING}'].values.reshape(-1, 1)\n",
    "    y_test = test['label'].values\n",
    "    y_pred = model.predict(x_test)\n",
    "\n",
    "    print(classification_report(y_test, y_pred))\n",
    "    print(confusion_matrix(y_test, y_pred))\n",
    "\n",
    "    fpr_, tpr_, _ = roc_curve(y_test, y_pred)\n",
    "    tpr.append(tpr_)\n",
    "    fpr.append(fpr_)\n",
    "\n",
    "    auc.append(roc_auc_score(y_test, y_pred))\n",
    "\n",
    "# plot the ROC curve\n",
    "plt.figure()\n",
    "for i in range(len(tpr)):\n",
    "    plt.plot(fpr[i], tpr[i], label=f'cv {i} (AUC = {auc[i]:.2f})')\n",
    "plt.plot([0, 1], [0, 1], 'k--')\n",
    "plt.xlabel('False positive rate')\n",
    "plt.ylabel('True positive rate')\n",
    "plt.title('ROC curve')\n",
    "\n",
    "print(f'AUC: {sum(auc)/len(auc):.2f} +/- {pd.Series(auc).std():.2f}')"
   ]
  },
  {
   "cell_type": "code",
   "execution_count": null,
   "metadata": {},
   "outputs": [
    {
     "name": "stdout",
     "output_type": "stream",
     "text": [
      "   fpr\n",
      "0    0\n"
     ]
    }
   ],
   "source": []
  }
 ],
 "metadata": {
  "kernelspec": {
   "display_name": ".venv",
   "language": "python",
   "name": "python3"
  },
  "language_info": {
   "codemirror_mode": {
    "name": "ipython",
    "version": 3
   },
   "file_extension": ".py",
   "mimetype": "text/x-python",
   "name": "python",
   "nbconvert_exporter": "python",
   "pygments_lexer": "ipython3",
   "version": "3.11.6"
  }
 },
 "nbformat": 4,
 "nbformat_minor": 2
}
