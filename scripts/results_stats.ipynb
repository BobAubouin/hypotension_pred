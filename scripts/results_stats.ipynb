{
 "cells": [
  {
   "cell_type": "code",
   "execution_count": 1,
   "metadata": {},
   "outputs": [],
   "source": [
    "import pandas as pd\n",
    "import numpy as np\n",
    "import matplotlib.pyplot as plt\n",
    "import xgboost as xgb"
   ]
  },
  {
   "cell_type": "code",
   "execution_count": 2,
   "metadata": {},
   "outputs": [],
   "source": [
    "# load raw data\n",
    "segments = pd.read_csv(f'./data/data_xbg.csv')"
   ]
  },
  {
   "cell_type": "code",
   "execution_count": 10,
   "metadata": {},
   "outputs": [
    {
     "name": "stdout",
     "output_type": "stream",
     "text": [
      "                            AUC       Sensitivity (\\%)       Specificity (\\%)  \\\n",
      "0  Baseline   0.72 [0.70, 0.74]   64.80 [59.18, 70.43]   71.64 [64.21, 79.08]   \n",
      "1   XGBoost   0.79 [0.75, 0.83]   71.72 [65.53, 77.90]   71.83 [66.07, 77.58]   \n",
      "\n",
      "                PPV (\\%)               NPV (\\%)  \n",
      "0   14.70 [11.35, 18.05]   96.45 [95.42, 97.47]  \n",
      "1   16.09 [11.77, 20.41]   97.15 [96.44, 97.86]  \n"
     ]
    }
   ],
   "source": [
    "# load roc of baseline\n",
    "df_baseline = pd.read_csv('./data/baseline_roc.csv')\n",
    "\n",
    "# load  roc of xgboost\n",
    "df_xgboost = pd.read_csv('./data/xgboost_roc.csv')\n",
    "\n",
    "# construct result table\n",
    "df_result = pd.DataFrame(columns=['', 'AUC', 'Sensitivity (\\%)', 'Specificity (\\%)', 'PPV (\\%)', 'NPV (\\%)'])\n",
    "df_result[''] = ['Baseline', 'XGBoost']\n",
    "df_result['AUC'] = [f\" {df_baseline['auc'][0]:.2f} [{df_baseline['auc'][0]-df_baseline['auc_std'][1]*2:.2f}, {df_baseline['auc'][0]+df_baseline['auc_std'][1]*2:.2f}]\",\n",
    "                     f\" {df_xgboost['auc'][0]:.2f} [{df_xgboost['auc'][0]-df_xgboost['auc_std'][1]*2:.2f}, {df_xgboost['auc'][0]+df_xgboost['auc_std'][1]*2:.2}]\"]\n",
    "df_result['Sensitivity (\\%)'] = [f\" {df_baseline['sensitivity'][0]:.2f} [{df_baseline['sensitivity'][0]-df_baseline['sensitivity_std'][1]*2:.2f}, {df_baseline['sensitivity'][0]+df_baseline['sensitivity_std'][1]*2:.2f}]\",\n",
    "                        f\" {df_xgboost['sensitivity'][0]:.2f} [{df_xgboost['sensitivity'][0]-df_xgboost['sensitivity_std'][1]*2:.2f}, {df_xgboost['sensitivity'][0]+df_xgboost['sensitivity_std'][1]*2:.2f}]\"]\n",
    "df_result['Specificity (\\%)'] = [f\" {df_baseline['specificity'][0]:.2f} [{df_baseline['specificity'][0]-df_baseline['specificity_std'][1]*2:.2f}, {df_baseline['specificity'][0]+df_baseline['specificity_std'][1]*2:.2f}]\",\n",
    "                        f\" {df_xgboost['specificity'][0]:.2f} [{df_xgboost['specificity'][0]-df_xgboost['specificity_std'][1]*2:.2f}, {df_xgboost['specificity'][0]+df_xgboost['specificity_std'][1]*2:.2f}]\"]\n",
    "df_result['PPV (\\%)'] = [f\" {df_baseline['ppv'][0]:.2f} [{df_baseline['ppv'][0]-df_baseline['ppv_std'][1]*2:.2f}, {df_baseline['ppv'][0]+df_baseline['ppv_std'][1]*2:.2f}]\",\n",
    "                        f\" {df_xgboost['ppv'][0]:.2f} [{df_xgboost['ppv'][0]-df_xgboost['ppv_std'][1]*2:.2f}, {df_xgboost['ppv'][0]+df_xgboost['ppv_std'][1]*2:.2f}]\"]\n",
    "df_result['NPV (\\%)'] = [f\" {df_baseline['npv'][0]:.2f} [{df_baseline['npv'][0]-df_baseline['npv_std'][1]*2:.2f}, {df_baseline['npv'][0]+df_baseline['npv_std'][1]*2:.2f}]\",\n",
    "                        f\" {df_xgboost['npv'][0]:.2f} [{df_xgboost['npv'][0]-df_xgboost['npv_std'][1]*2:.2f}, {df_xgboost['npv'][0]+df_xgboost['npv_std'][1]*2:.2f}]\"]\n",
    "\n",
    "print(df_result)\n",
    "\n",
    "# export in tex format\n",
    "\n",
    "styler = df_result.style\n",
    "styler.hide(axis='index')\n",
    "styler.to_latex('./report/figures/result.tex', hrules=True, column_format='l|ccccc')\n",
    "\n",
    "\n",
    "\n",
    "\n",
    "\n",
    "\n"
   ]
  }
 ],
 "metadata": {
  "kernelspec": {
   "display_name": ".venv",
   "language": "python",
   "name": "python3"
  },
  "language_info": {
   "codemirror_mode": {
    "name": "ipython",
    "version": 3
   },
   "file_extension": ".py",
   "mimetype": "text/x-python",
   "name": "python",
   "nbconvert_exporter": "python",
   "pygments_lexer": "ipython3",
   "version": "3.11.6"
  }
 },
 "nbformat": 4,
 "nbformat_minor": 2
}
