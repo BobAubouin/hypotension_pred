{
 "cells": [
  {
   "cell_type": "code",
   "execution_count": 1,
   "metadata": {},
   "outputs": [],
   "source": [
    "import pandas as pd\n",
    "import numpy as np\n",
    "import matplotlib.pyplot as plt\n",
    "import xgboost as xgb"
   ]
  },
  {
   "cell_type": "code",
   "execution_count": 15,
   "metadata": {},
   "outputs": [],
   "source": [
    "# load raw data\n",
    "segments = pd.read_csv(f'./data/data_xbg.csv')"
   ]
  },
  {
   "cell_type": "code",
   "execution_count": 24,
   "metadata": {},
   "outputs": [
    {
     "name": "stdout",
     "output_type": "stream",
     "text": [
      "------------------- XGBoost -------------------\n",
      "prevalence: 0.070%\n",
      "threshold: 0.070\n",
      "sensitivity: 0.70%\n",
      "specificity: 0.73%\n",
      "positive predictive value (%): 6.76%\n",
      "negative predictive value (%): 92.41%\n",
      "------------------- Baseline -------------------\n",
      "prevalence: 0.070%\n",
      "threshold: 0.345\n",
      "sensitivity: 0.66%\n",
      "specificity: 0.70\n",
      "positive predictive value (%): 6.63%\n",
      "negative predictive value (%): 92.20%\n"
     ]
    }
   ],
   "source": [
    "# load  roc of xgboost\n",
    "df = pd.read_csv('./data/xgboost_roc.csv')\n",
    "\n",
    "#find the gmean of each threshold\n",
    "df['gmean'] = np.sqrt(df['tpr'] * (1 - df['fpr']))\n",
    "# find the best one and select the treshold\n",
    "df = df.sort_values(by='gmean', ascending=False)\n",
    "\n",
    "prevalence = segments.label.mean()\n",
    "\n",
    "#print the statistics of the best threshold\n",
    "\n",
    "print('------------------- XGBoost -------------------')\n",
    "print(f'prevalence: {prevalence:.3f}%')\n",
    "print(f'threshold: {df.threshold.values[0]:.3f}')\n",
    "print(f'sensitivity: {df.tpr.values[0]:.2f}%')\n",
    "print(f'specificity: {1 - df.fpr.values[0]:.2f}%')\n",
    "print(f'positive predictive value (%): {100 * df.tpr.values[0]* prevalence / (df.tpr.values[0] * prevalence + (1 - df.fpr.values[0])*(1 - prevalence)):.2f}%')\n",
    "print(f'negative predictive value (%): {100 * df.fpr.values[0] * (1 - prevalence) / (df.fpr.values[0] * (1 - prevalence) + (1 - df.tpr.values[0]) * prevalence):.2f}%')\n",
    "\n",
    "# load  roc of xgboost\n",
    "df = pd.read_csv('./data/baseline_roc.csv')\n",
    "\n",
    "#find the gmean of each threshold\n",
    "df['gmean'] = np.sqrt(df['tpr'] * (1 - df['fpr']))\n",
    "# find the best one and select the treshold\n",
    "df = df.sort_values(by='gmean', ascending=False)\n",
    "\n",
    "prevalence = segments.label.mean()\n",
    "\n",
    "#print the statistics of the best threshold\n",
    "\n",
    "print('------------------- Baseline -------------------')\n",
    "print(f'prevalence: {prevalence:.3f}%')\n",
    "print(f'threshold: {df.threshold.values[0]:.3f}')\n",
    "print(f'sensitivity: {df.tpr.values[0]:.2f}%')\n",
    "print(f'specificity: {1 - df.fpr.values[0]:.2f}')\n",
    "print(f'positive predictive value (%): {100 * df.tpr.values[0]* prevalence / (df.tpr.values[0] * prevalence + (1 - df.fpr.values[0])*(1 - prevalence)):.2f}%')\n",
    "print(f'negative predictive value (%): {100 * df.fpr.values[0] * (1 - prevalence) / (df.fpr.values[0] * (1 - prevalence) + (1 - df.tpr.values[0]) * prevalence):.2f}%')\n",
    "\n",
    "\n",
    "\n",
    "\n"
   ]
  }
 ],
 "metadata": {
  "kernelspec": {
   "display_name": ".venv",
   "language": "python",
   "name": "python3"
  },
  "language_info": {
   "codemirror_mode": {
    "name": "ipython",
    "version": 3
   },
   "file_extension": ".py",
   "mimetype": "text/x-python",
   "name": "python",
   "nbconvert_exporter": "python",
   "pygments_lexer": "ipython3",
   "version": "3.11.6"
  }
 },
 "nbformat": 4,
 "nbformat_minor": 2
}
