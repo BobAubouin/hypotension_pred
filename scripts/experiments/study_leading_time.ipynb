{
 "cells": [
  {
   "cell_type": "code",
   "execution_count": 2,
   "metadata": {},
   "outputs": [],
   "source": [
    "from pathlib import Path\n",
    "\n",
    "import matplotlib.pyplot as plt\n",
    "import numpy as np\n",
    "import optuna\n",
    "import pandas as pd\n",
    "import shap\n",
    "import xgboost as xgb\n",
    "from sklearn.metrics import auc, roc_curve\n",
    "\n",
    "from scripts.utils import objective_xgboost, bootstrap_test, create_balanced_cv\n",
    "\n",
    "optuna.logging.set_verbosity(optuna.logging.WARNING)"
   ]
  },
  {
   "cell_type": "code",
   "execution_count": 3,
   "metadata": {},
   "outputs": [],
   "source": [
    "SIGNAL_FEATURE = ['mbp', 'sbp', 'dbp', 'hr', 'rr', 'spo2', 'etco2', 'mac', 'pp_ct']\n",
    "STATIC_FEATURE = [\"age\", \"bmi\", \"asa\", \"preop_cr\", \"preop_htn\"]\n",
    "HALF_TIME_FILTERING = [10, 60, 60*5]\n",
    "\n",
    "FEATURE_NAME = (\n",
    "    [\n",
    "        f\"{signal}_ema_{half_time}\"\n",
    "        for signal in SIGNAL_FEATURE\n",
    "        for half_time in HALF_TIME_FILTERING\n",
    "    ]\n",
    "    + [\n",
    "        f\"{signal}_std_{half_time}\"\n",
    "        for signal in SIGNAL_FEATURE\n",
    "        for half_time in HALF_TIME_FILTERING\n",
    "    ]\n",
    "    + STATIC_FEATURE\n",
    ")\n",
    "\n",
    "BASELINE_FEATURE_NAME = 'mbp_ema_10'"
   ]
  },
  {
   "cell_type": "markdown",
   "metadata": {},
   "source": [
    "## Load and format data"
   ]
  },
  {
   "cell_type": "code",
   "execution_count": 4,
   "metadata": {},
   "outputs": [],
   "source": [
    "# import the data frame and add the meta data to the segments\n",
    "data = pd.read_parquet(Path('data/datasets/base_dataset_no_leading_time/cases/'))\n",
    "\n",
    "static = pd.read_parquet('data/datasets/base_dataset_no_leading_time/meta.parquet')\n",
    "\n",
    "data = data.merge(static, on='caseid')\n",
    "\n",
    "data.asa = data.asa.astype(int)\n",
    "data.preop_htn = data.preop_htn.astype(int)\n",
    "\n"
   ]
  },
  {
   "cell_type": "markdown",
   "metadata": {},
   "source": [
    "## Train or load existing model\n"
   ]
  },
  {
   "cell_type": "code",
   "execution_count": 5,
   "metadata": {},
   "outputs": [
    {
     "name": "stdout",
     "output_type": "stream",
     "text": [
      "split 0 : 35265 segments, 2403 labels, 0.06814121650361549 ratio label\n",
      "split 1 : 34690 segments, 2788 labels, 0.08036898241568176 ratio label\n",
      "split 2 : 35798 segments, 2043 labels, 0.05707022738700486 ratio label\n",
      "leading time: 0\n",
      "105753 train samples and 40545 test samples, positive rate = 0.07\n"
     ]
    },
    {
     "name": "stderr",
     "output_type": "stream",
     "text": [
      "Best trial: 73. Best value: 0.773512: 100%|██████████| 80/80 [12:52<00:00,  9.65s/it]\n"
     ]
    },
    {
     "name": "stdout",
     "output_type": "stream",
     "text": [
      "split 0 : 33236 segments, 1970 labels, 0.05927307738596702 ratio label\n",
      "split 1 : 34083 segments, 2031 labels, 0.05958982483936273 ratio label\n",
      "split 2 : 36823 segments, 1622 labels, 0.04404855660864134 ratio label\n",
      "leading time: 2\n",
      "104142 train samples and 39882 test samples, positive rate = 0.06\n"
     ]
    },
    {
     "name": "stderr",
     "output_type": "stream",
     "text": [
      "Best trial: 79. Best value: 0.728851: 100%|██████████| 80/80 [20:37<00:00, 15.46s/it]\n"
     ]
    },
    {
     "name": "stdout",
     "output_type": "stream",
     "text": [
      "split 0 : 33857 segments, 1446 labels, 0.04270904096641758 ratio label\n",
      "split 1 : 34858 segments, 1402 labels, 0.04022032245108727 ratio label\n",
      "split 2 : 33903 segments, 1251 labels, 0.036899389434563314 ratio label\n",
      "leading time: 4\n",
      "102618 train samples and 39257 test samples, positive rate = 0.04\n"
     ]
    },
    {
     "name": "stderr",
     "output_type": "stream",
     "text": [
      "Best trial: 62. Best value: 0.693288: 100%|██████████| 80/80 [17:30<00:00, 13.13s/it]\n"
     ]
    },
    {
     "name": "stdout",
     "output_type": "stream",
     "text": [
      "split 0 : 35014 segments, 904 labels, 0.02581824413091906 ratio label\n",
      "split 1 : 33191 segments, 910 labels, 0.02741707089271188 ratio label\n",
      "split 2 : 32972 segments, 844 labels, 0.025597476646851875 ratio label\n",
      "leading time: 6\n",
      "101177 train samples and 38704 test samples, positive rate = 0.03\n"
     ]
    },
    {
     "name": "stderr",
     "output_type": "stream",
     "text": [
      "Best trial: 72. Best value: 0.688989: 100%|██████████| 80/80 [08:43<00:00,  6.54s/it]\n"
     ]
    }
   ],
   "source": [
    "# control reproducibility\n",
    "rng_seed = 42\n",
    "\n",
    "result_folder = Path(\"data/results\")\n",
    "if not result_folder.exists():\n",
    "    result_folder.exists()\n",
    "\n",
    "for leading_time in range(0,7,2):\n",
    "    data_lead = data[(data.time_before_IOH >= leading_time*60) | (data.time_before_IOH.isna())]\n",
    "\n",
    "    train = data_lead[data_lead['split'] == \"train\"]\n",
    "    test = data_lead[data_lead['split'] == \"test\"]\n",
    "\n",
    "    train_case_label = train.groupby(\"caseid\").agg(\n",
    "                segment_count=(\"label\", \"count\"),\n",
    "                label_count=(\"label\", \"sum\"),\n",
    "            )\n",
    "\n",
    "    train_cv_split = create_balanced_cv(train_case_label, nb_max_iter=100000)\n",
    "\n",
    "\n",
    "    \n",
    "    train = train.dropna(subset=FEATURE_NAME)\n",
    "    test = test.dropna(subset=FEATURE_NAME)\n",
    "    print('leading time:', leading_time)\n",
    "    print(\n",
    "        f'{len(train)} train samples and {len(test)} test samples, positive rate = {test[\"label\"].mean():.2f}'\n",
    "    )\n",
    "\n",
    "    # Set model file, create models folder if does not exist.\n",
    "    model_folder = Path(\"data/models\")\n",
    "    if not model_folder.exists():\n",
    "        model_folder.mkdir()\n",
    "    model_file = model_folder / f\"xgb_lead_{leading_time}.json\"\n",
    "\n",
    "    # create a regressor\n",
    "    if model_file.exists():\n",
    "        model = xgb.XGBClassifier()\n",
    "        model.load_model(model_file)\n",
    "    else:\n",
    "        # creat an optuna study\n",
    "        study = optuna.create_study(direction=\"maximize\")\n",
    "        study.optimize(\n",
    "            lambda trial: objective_xgboost(trial, train, FEATURE_NAME, train_cv_split),\n",
    "            n_trials=80,\n",
    "            show_progress_bar=True,\n",
    "        )\n",
    "\n",
    "        # get the best hyperparameters\n",
    "        best_params = study.best_params\n",
    "\n",
    "        model = xgb.XGBClassifier(**best_params)\n",
    "        # refit the model with best parameters\n",
    "        model.fit(train[FEATURE_NAME], train.label, verbose=1)\n",
    "\n",
    "        # save the model\n",
    "        model.save_model(model_file)\n",
    "\n",
    "    # test the model\n",
    "    y_pred = model.predict_proba(test[FEATURE_NAME])[:, 1]\n",
    "    y_test = test[\"label\"].values\n",
    "    y_label_id = test[\"label_id\"].values\n",
    "\n",
    "    df_results, _ = bootstrap_test(y_test, y_pred, y_label_id, n_bootstraps=200, rng_seed=rng_seed)\n",
    "    \n",
    "    roc_results = result_folder / f\"xgboost_roc_lead_{leading_time}.csv\"\n",
    "    df_results.to_csv(roc_results, index=False)\n",
    "\n",
    "    #test baseline\n",
    "    y_pred_baseline = 1 - test[BASELINE_FEATURE_NAME].values/120\n",
    "\n",
    "    df_results_baseline, _ = bootstrap_test(y_test, y_pred_baseline, y_label_id, n_bootstraps=200, rng_seed=rng_seed)\n",
    "\n",
    "    roc_results = result_folder / f\"baseline_roc_lead_{leading_time}.csv\"\n",
    "    df_results_baseline.to_csv(roc_results, index=False)\n",
    "\n"
   ]
  },
  {
   "cell_type": "markdown",
   "metadata": {},
   "source": [
    "## Plot"
   ]
  },
  {
   "cell_type": "code",
   "execution_count": 15,
   "metadata": {},
   "outputs": [
    {
     "data": {
      "image/png": "[encoded data removed]",
      "text/plain": [
       "<Figure size 640x480 with 1 Axes>"
      ]
     },
     "metadata": {},
     "output_type": "display_data"
    }
   ],
   "source": [
    "xgboost_auc_list, baseline_auc_list, lead_time_list = [], [], []\n",
    "xgboost_auc_std_list, baseline_auc_std_list = [], []\n",
    "\n",
    "for leading_time in range(0,7,2):\n",
    "    lead_time_list.append(leading_time)\n",
    "    roc_results = result_folder / f\"xgboost_roc_lead_{leading_time}.csv\"\n",
    "    df_results = pd.read_csv(roc_results)\n",
    "    xgboost_auc_list.append(df_results.auc[0])\n",
    "    xgboost_auc_std_list.append(df_results.auc_std[0])\n",
    "\n",
    "    roc_results = result_folder / f\"baseline_roc_lead_{leading_time}.csv\"\n",
    "    df_results = pd.read_csv(roc_results)\n",
    "    baseline_auc_list.append(df_results.auc[0])\n",
    "    baseline_auc_std_list.append(df_results.auc_std[0])\n",
    "    \n",
    "\n",
    "plt.errorbar(lead_time_list, xgboost_auc_list,xgboost_auc_std_list, fmt='-o', label='model', capsize=6)\n",
    "plt.errorbar(lead_time_list, baseline_auc_list, baseline_auc_std_list, fmt='-o', label='baseline', capsize=6)\n",
    "plt.xlabel('Leading time (min)')\n",
    "plt.ylabel('AUC')\n",
    "plt.grid()\n",
    "plt.legend()\n",
    "plt.show()"
   ]
  },
  {
   "cell_type": "code",
   "execution_count": 9,
   "metadata": {},
   "outputs": [
    {
     "data": {
      "text/plain": [
       "[0.0042114137195933,\n",
       " 0.0051688274134704,\n",
       " 0.0063986517106413,\n",
       " 0.0070863187672392]"
      ]
     },
     "execution_count": 9,
     "metadata": {},
     "output_type": "execute_result"
    }
   ],
   "source": [
    "xgboost_auc_std_list"
   ]
  }
 ],
 "metadata": {
  "kernelspec": {
   "display_name": ".venv",
   "language": "python",
   "name": "python3"
  },
  "language_info": {
   "codemirror_mode": {
    "name": "ipython",
    "version": 3
   },
   "file_extension": ".py",
   "mimetype": "text/x-python",
   "name": "python",
   "nbconvert_exporter": "python",
   "pygments_lexer": "ipython3",
   "version": "3.11.6"
  }
 },
 "nbformat": 4,
 "nbformat_minor": 2
}
