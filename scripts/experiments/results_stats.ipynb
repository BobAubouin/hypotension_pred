{
 "cells": [
  {
   "cell_type": "code",
   "execution_count": 1,
   "metadata": {},
   "outputs": [],
   "source": [
    "import pandas as pd\n",
    "import numpy as np\n",
    "import matplotlib.pyplot as plt\n",
    "import xgboost as xgb"
   ]
  },
  {
   "cell_type": "code",
   "execution_count": 3,
   "metadata": {},
   "outputs": [
    {
     "name": "stdout",
     "output_type": "stream",
     "text": [
      "                            AUC       Sensitivity (\\%)       Specificity (\\%)  \\\n",
      "0  Baseline   0.76 [0.75, 0.77]   66.46 [63.48, 69.44]   74.31 [71.56, 77.05]   \n",
      "1   XGBoost   0.82 [0.82, 0.82]   70.60 [67.97, 73.23]   76.96 [74.40, 79.52]   \n",
      "\n",
      "                PPV (\\%)               NPV (\\%)  \n",
      "0   14.23 [13.24, 15.22]   97.19 [96.99, 97.40]  \n",
      "1   16.44 [15.04, 17.83]   97.61 [97.42, 97.80]  \n"
     ]
    }
   ],
   "source": [
    "# load roc of baseline\n",
    "df_baseline = pd.read_csv('./data/results/baseline_roc.csv')\n",
    "\n",
    "# load  roc of xgboost\n",
    "df_xgboost = pd.read_csv('./data/results/xgboost_roc.csv')\n",
    "\n",
    "# construct result table\n",
    "df_result = pd.DataFrame(columns=['', 'AUC', 'Sensitivity (\\%)', 'Specificity (\\%)', 'PPV (\\%)', 'NPV (\\%)'])\n",
    "df_result[''] = ['Baseline', 'XGBoost']\n",
    "df_result['AUC'] = [f\" {df_baseline['auc'][0]:.2f} [{df_baseline['auc'][0]-df_baseline['auc_std'][1]*2:.2f}, {df_baseline['auc'][0]+df_baseline['auc_std'][1]*2:.2f}]\",\n",
    "                     f\" {df_xgboost['auc'][0]:.2f} [{df_xgboost['auc'][0]-df_xgboost['auc_std'][1]*2:.2f}, {df_xgboost['auc'][0]+df_xgboost['auc_std'][1]*2:.2}]\"]\n",
    "df_result['Sensitivity (\\%)'] = [f\" {df_baseline['sensitivity'][0]:.2f} [{df_baseline['sensitivity'][0]-df_baseline['sensitivity_std'][1]*2:.2f}, {df_baseline['sensitivity'][0]+df_baseline['sensitivity_std'][1]*2:.2f}]\",\n",
    "                        f\" {df_xgboost['sensitivity'][0]:.2f} [{df_xgboost['sensitivity'][0]-df_xgboost['sensitivity_std'][1]*2:.2f}, {df_xgboost['sensitivity'][0]+df_xgboost['sensitivity_std'][1]*2:.2f}]\"]\n",
    "df_result['Specificity (\\%)'] = [f\" {df_baseline['specificity'][0]:.2f} [{df_baseline['specificity'][0]-df_baseline['specificity_std'][1]*2:.2f}, {df_baseline['specificity'][0]+df_baseline['specificity_std'][1]*2:.2f}]\",\n",
    "                        f\" {df_xgboost['specificity'][0]:.2f} [{df_xgboost['specificity'][0]-df_xgboost['specificity_std'][1]*2:.2f}, {df_xgboost['specificity'][0]+df_xgboost['specificity_std'][1]*2:.2f}]\"]\n",
    "df_result['PPV (\\%)'] = [f\" {df_baseline['ppv'][0]:.2f} [{df_baseline['ppv'][0]-df_baseline['ppv_std'][1]*2:.2f}, {df_baseline['ppv'][0]+df_baseline['ppv_std'][1]*2:.2f}]\",\n",
    "                        f\" {df_xgboost['ppv'][0]:.2f} [{df_xgboost['ppv'][0]-df_xgboost['ppv_std'][1]*2:.2f}, {df_xgboost['ppv'][0]+df_xgboost['ppv_std'][1]*2:.2f}]\"]\n",
    "df_result['NPV (\\%)'] = [f\" {df_baseline['npv'][0]:.2f} [{df_baseline['npv'][0]-df_baseline['npv_std'][1]*2:.2f}, {df_baseline['npv'][0]+df_baseline['npv_std'][1]*2:.2f}]\",\n",
    "                        f\" {df_xgboost['npv'][0]:.2f} [{df_xgboost['npv'][0]-df_xgboost['npv_std'][1]*2:.2f}, {df_xgboost['npv'][0]+df_xgboost['npv_std'][1]*2:.2f}]\"]\n",
    "\n",
    "print(df_result)\n",
    "\n",
    "# export in tex format\n",
    "\n",
    "styler = df_result.style\n",
    "styler.hide(axis='index')\n",
    "styler.to_latex('./report/figures/result.tex', hrules=True, column_format='l|ccccc')\n",
    "\n",
    "\n",
    "\n",
    "\n",
    "\n",
    "\n"
   ]
  }
 ],
 "metadata": {
  "kernelspec": {
   "display_name": ".venv",
   "language": "python",
   "name": "python3"
  },
  "language_info": {
   "codemirror_mode": {
    "name": "ipython",
    "version": 3
   },
   "file_extension": ".py",
   "mimetype": "text/x-python",
   "name": "python",
   "nbconvert_exporter": "python",
   "pygments_lexer": "ipython3",
   "version": "3.11.6"
  }
 },
 "nbformat": 4,
 "nbformat_minor": 2
}
