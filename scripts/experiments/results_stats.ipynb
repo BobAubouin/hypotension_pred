{
 "cells": [
  {
   "cell_type": "code",
   "execution_count": 1,
   "metadata": {},
   "outputs": [],
   "source": [
    "import pandas as pd"
   ]
  },
  {
   "cell_type": "code",
   "execution_count": 2,
   "metadata": {},
   "outputs": [
    {
     "name": "stdout",
     "output_type": "stream",
     "text": [
      "                            AUC       Sensitivity (\\%)       Specificity (\\%)  \\\n",
      "0  Baseline   0.75 [0.74, 0.76]   68.11 [63.70, 72.52]   72.21 [67.77, 76.66]   \n",
      "1   XGBoost   0.87 [0.86, 0.88]   80.30 [76.22, 84.38]   77.33 [73.35, 81.31]   \n",
      "\n",
      "                PPV (\\%)               NPV (\\%)  \n",
      "0   15.77 [14.27, 17.28]   96.75 [96.45, 97.05]  \n",
      "1   21.32 [18.86, 23.79]   98.10 [97.80, 98.40]  \n"
     ]
    }
   ],
   "source": [
    "# load roc of baseline\n",
    "df_baseline = pd.read_csv('./data/results/baseline_roc.csv')\n",
    "\n",
    "# load  roc of xgboost\n",
    "df_xgboost = pd.read_csv('./data/results/xgboost_roc.csv')\n",
    "\n",
    "# construct result table\n",
    "df_result = pd.DataFrame(columns=['', 'AUC', 'Sensitivity (\\%)', 'Specificity (\\%)', 'PPV (\\%)', 'NPV (\\%)'])\n",
    "df_result[''] = ['Baseline', 'XGBoost']\n",
    "df_result['AUC'] = [f\" {df_baseline['auc'][0]:.2f} [{df_baseline['auc'][0]-df_baseline['auc_std'][1]*2:.2f}, {df_baseline['auc'][0]+df_baseline['auc_std'][1]*2:.2f}]\",\n",
    "                     f\" {df_xgboost['auc'][0]:.2f} [{df_xgboost['auc'][0]-df_xgboost['auc_std'][1]*2:.2f}, {df_xgboost['auc'][0]+df_xgboost['auc_std'][1]*2:.2}]\"]\n",
    "df_result['Sensitivity (\\%)'] = [f\" {df_baseline['sensitivity'][0]:.2f} [{df_baseline['sensitivity'][0]-df_baseline['sensitivity_std'][1]*2:.2f}, {df_baseline['sensitivity'][0]+df_baseline['sensitivity_std'][1]*2:.2f}]\",\n",
    "                        f\" {df_xgboost['sensitivity'][0]:.2f} [{df_xgboost['sensitivity'][0]-df_xgboost['sensitivity_std'][1]*2:.2f}, {df_xgboost['sensitivity'][0]+df_xgboost['sensitivity_std'][1]*2:.2f}]\"]\n",
    "df_result['Specificity (\\%)'] = [f\" {df_baseline['specificity'][0]:.2f} [{df_baseline['specificity'][0]-df_baseline['specificity_std'][1]*2:.2f}, {df_baseline['specificity'][0]+df_baseline['specificity_std'][1]*2:.2f}]\",\n",
    "                        f\" {df_xgboost['specificity'][0]:.2f} [{df_xgboost['specificity'][0]-df_xgboost['specificity_std'][1]*2:.2f}, {df_xgboost['specificity'][0]+df_xgboost['specificity_std'][1]*2:.2f}]\"]\n",
    "df_result['PPV (\\%)'] = [f\" {df_baseline['ppv'][0]:.2f} [{df_baseline['ppv'][0]-df_baseline['ppv_std'][1]*2:.2f}, {df_baseline['ppv'][0]+df_baseline['ppv_std'][1]*2:.2f}]\",\n",
    "                        f\" {df_xgboost['ppv'][0]:.2f} [{df_xgboost['ppv'][0]-df_xgboost['ppv_std'][1]*2:.2f}, {df_xgboost['ppv'][0]+df_xgboost['ppv_std'][1]*2:.2f}]\"]\n",
    "df_result['NPV (\\%)'] = [f\" {df_baseline['npv'][0]:.2f} [{df_baseline['npv'][0]-df_baseline['npv_std'][1]*2:.2f}, {df_baseline['npv'][0]+df_baseline['npv_std'][1]*2:.2f}]\",\n",
    "                        f\" {df_xgboost['npv'][0]:.2f} [{df_xgboost['npv'][0]-df_xgboost['npv_std'][1]*2:.2f}, {df_xgboost['npv'][0]+df_xgboost['npv_std'][1]*2:.2f}]\"]\n",
    "\n",
    "print(df_result)\n",
    "\n",
    "# export in tex format\n",
    "\n",
    "styler = df_result.style\n",
    "styler.hide(axis='index')\n",
    "styler.to_latex('./report/figures/result.tex', hrules=True, column_format='l|ccccc')\n",
    "\n",
    "\n",
    "\n",
    "\n",
    "\n",
    "\n"
   ]
  }
 ],
 "metadata": {
  "kernelspec": {
   "display_name": ".venv",
   "language": "python",
   "name": "python3"
  },
  "language_info": {
   "codemirror_mode": {
    "name": "ipython",
    "version": 3
   },
   "file_extension": ".py",
   "mimetype": "text/x-python",
   "name": "python",
   "nbconvert_exporter": "python",
   "pygments_lexer": "ipython3",
   "version": "3.12.3"
  }
 },
 "nbformat": 4,
 "nbformat_minor": 2
}
