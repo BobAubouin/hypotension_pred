{
 "cells": [
  {
   "cell_type": "code",
   "execution_count": null,
   "metadata": {},
   "outputs": [],
   "source": [
    "from pathlib import Path\n",
    "\n",
    "import matplotlib.pyplot as plt\n",
    "import numpy as np\n",
    "import optuna\n",
    "import pandas as pd\n",
    "\n",
    "from hp_pred.experiments import load_labelized_cases\n",
    "from hp_pred.test_model import TestModel\n",
    "\n",
    "optuna.logging.set_verbosity(optuna.logging.WARNING)"
   ]
  },
  {
   "cell_type": "markdown",
   "metadata": {},
   "source": [
    "## Load and format data"
   ]
  },
  {
   "cell_type": "code",
   "execution_count": 6,
   "metadata": {},
   "outputs": [],
   "source": [
    "# import the data frame and add the meta data to the segments\n",
    "\n",
    "dataset_name = '30_s_dataset'\n",
    "model_filename = 'xgb_30_s.json'\n"
   ]
  },
  {
   "cell_type": "code",
   "execution_count": 7,
   "metadata": {},
   "outputs": [],
   "source": [
    "data = pd.read_parquet(f'data/datasets/{dataset_name}/cases', dtype_backend='pyarrow')\n",
    "static = pd.read_parquet(f'data/datasets/{dataset_name}/meta.parquet')\n",
    "\n",
    "data = data.merge(static, on='caseid')\n",
    "test = data[data['split'] == 'test']\n",
    "train = data[data['split'] == 'train'] # training set in only used to calibrate the baseline\n"
   ]
  },
  {
   "cell_type": "markdown",
   "metadata": {},
   "source": [
    "## Evaluation\n",
    "\n",
    "This section should take about 10 minutes to complete."
   ]
  },
  {
   "cell_type": "code",
   "execution_count": null,
   "metadata": {},
   "outputs": [],
   "source": [
    "tester = TestModel(\n",
    "    test,\n",
    "    train,\n",
    "    [model_filename], # a list of model can be provided\n",
    "    output_name='30_s_model',\n",
    ")\n",
    "tester.run(True, True)"
   ]
  },
  {
   "cell_type": "markdown",
   "metadata": {},
   "source": [
    "## SHAP interpretations"
   ]
  },
  {
   "cell_type": "code",
   "execution_count": null,
   "metadata": {},
   "outputs": [],
   "source": [
    "tester.compute_shap_value()\n",
    "tester.plot_shap_values()\n",
    "tester.group_shap_values()\n",
    "tester.plot_shap_grouped()"
   ]
  },
  {
   "cell_type": "markdown",
   "metadata": {},
   "source": [
    "## Exemple of cases\n"
   ]
  },
  {
   "cell_type": "code",
   "execution_count": null,
   "metadata": {},
   "outputs": [],
   "source": [
    "# plot 3 random cases with the corresponding decision function\n",
    "\n",
    "np.random.seed(1)\n",
    "cases = np.random.choice(test['caseid'].unique(), 5, replace=False)\n",
    "model =tester.model[0]\n",
    "features_names = tester.features_names\n",
    "for case in cases:\n",
    "    raw_case = load_labelized_cases(dataset_path=Path(f'data/datasets/{dataset_name}/'), caseid=int(case))\n",
    "\n",
    "    segment_data = test[test['caseid'] == case]\n",
    "\n",
    "    segment_data = segment_data.dropna(subset=features_names)\n",
    "    x_test = segment_data[features_names]\n",
    "    y_pred = model.predict_proba(x_test)[:,1]\n",
    "\n",
    "    plt.figure(figsize=(12, 5))\n",
    "    plt.fill_between(raw_case.index.seconds /60, np.zeros(len(raw_case.index)), raw_case.label*100, label='label', alpha=0.2)\n",
    "    # FIXME: raw_case.mbp might be NaN. fillna(0) ?\n",
    "    plt.plot(raw_case.index.seconds /60, raw_case['mbp'])\n",
    "    plt.hlines(65, raw_case.index.seconds[0]/60, raw_case.index.seconds[-1]/60, color='r', linestyle='--', label='IOH threshold')\n",
    "\n",
    "    #plot in red point labeled as IOH\n",
    "    plt.plot([t.hour * 60 + t.minute + t.second /60 for t in (segment_data[segment_data.label>0].time)] ,y_pred[segment_data.label>0]*100, 'r.', label='model decision function')\n",
    "    plt.plot([t.hour * 60 + t.minute + t.second / 60 for t in (segment_data[segment_data.label==00].time)] ,y_pred[segment_data.label==0]*100, 'g.', label='model decision function')\n",
    "\n",
    "\n",
    "    # plt.plot(segment_data.time / np.timedelta64(1, 's') /60,segment_data.time_before_IOH, 'x', label='model decision function')\n",
    "\n",
    "    plt.xlabel('Time (min)')\n",
    "    # plt.xlim([100, 120])\n",
    "    # plt.xlim([235, 245])\n",
    "    # plt.ylim([0, 100])\n",
    "    plt.legend()\n",
    "    plt.title(f'Case {case}')\n",
    "    plt.grid()\n",
    "    plt.show()\n",
    "\n",
    "\n"
   ]
  }
 ],
 "metadata": {
  "kernelspec": {
   "display_name": ".venv",
   "language": "python",
   "name": "python3"
  },
  "language_info": {
   "codemirror_mode": {
    "name": "ipython",
    "version": 3
   },
   "file_extension": ".py",
   "mimetype": "text/x-python",
   "name": "python",
   "nbconvert_exporter": "python",
   "pygments_lexer": "ipython3",
   "version": "3.12.3"
  }
 },
 "nbformat": 4,
 "nbformat_minor": 2
}
